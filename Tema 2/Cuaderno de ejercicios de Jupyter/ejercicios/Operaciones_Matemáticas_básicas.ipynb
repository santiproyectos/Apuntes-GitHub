{
 "cells": [
  {
   "cell_type": "markdown",
   "id": "100d2278-6bc1-4e6f-a70d-3ab38d5069c5",
   "metadata": {},
   "source": [
    "Ejercicio de codificación : \n",
    "\n",
    "Operaciones Matemáticas Básicas\n",
    "\n",
    "Objetivo:\n",
    "\n",
    "Escribe una función en Python llamada operaciones_matematicas que reciba dos números enteros a y b, y realice las siguientes operaciones matemáticas:\n",
    "\n",
    "Suma: a + b\n",
    "\n",
    "Resta: a - b\n",
    "\n",
    "Multiplicación: a * b\n",
    "\n",
    "División: a / b, si b es diferente de 0; de lo contrario, devolver el mensaje \"División por cero no permitida\".\n",
    "\n",
    "Resto de la división: a % b, si b es diferente de 0; de lo contrario, devolver el mensaje \"División por cero no permitida\".\n",
    "\n",
    "La función debe devolver estos cinco resultados en una tupla.\n",
    "\n",
    "Ejemplo de entrada y salida:\n",
    "\n",
    "a = 10\n",
    "b = 3\n",
    "resultado = operaciones_matematicas(a, b)\n",
    "print(\"Suma:\", resultado[0])         # 13\n",
    "print(\"Resta:\", resultado[1])        # 7\n",
    "print(\"Multiplicación:\", resultado[2]) # 30\n",
    "print(\"División:\", resultado[3])     # 3.3333...\n",
    "print(\"Residuo:\", resultado[4])      # 1\n",
    "Requisitos:\n",
    "\n",
    "La función debe manejar correctamente la división por cero.\n",
    "\n",
    "Debe devolver los resultados como una tupla (suma, resta, multiplicación, división, resto).\n",
    "\n",
    "Prueba la función con diferentes valores de entrada para verificar su correcto funcionamiento."
   ]
  },
  {
   "cell_type": "code",
   "execution_count": 2,
   "id": "0cf19e2d-e17a-401b-a589-df4f3b2e2f00",
   "metadata": {},
   "outputs": [
    {
     "name": "stdout",
     "output_type": "stream",
     "text": [
      "Suma: 17\n",
      "Resta: 3\n",
      "Multiplicación: 70\n",
      "División: 1.4285714285714286\n",
      "Residuo: 3\n"
     ]
    }
   ],
   "source": [
    "def operaciones_matematicas(a, b):\n",
    "    suma = a + b\n",
    "    resta = a - b\n",
    "    multiplicacion = a * b\n",
    "\n",
    "    if b != 0:\n",
    "        division = a / b\n",
    "        residuo = a % b\n",
    "    else:\n",
    "        division = \"División por cero no permitida\"\n",
    "        residuo = \"División por cero no permitida\"\n",
    "\n",
    "    return (suma, resta, multiplicacion, division, residuo)\n",
    "a = 10\n",
    "b = 7\n",
    "\n",
    "resultado = operaciones_matematicas(a, b)\n",
    "\n",
    "print(\"Suma:\", resultado[0])            \n",
    "print(\"Resta:\", resultado[1])           \n",
    "print(\"Multiplicación:\", resultado[2])  \n",
    "print(\"División:\", resultado[3])        \n",
    "print(\"Residuo:\", resultado[4])         "
   ]
  },
  {
   "cell_type": "code",
   "execution_count": null,
   "id": "8dd8d6c9-8b02-431a-8894-07765b073dac",
   "metadata": {},
   "outputs": [],
   "source": []
  }
 ],
 "metadata": {
  "kernelspec": {
   "display_name": "Python 3 (ipykernel)",
   "language": "python",
   "name": "python3"
  },
  "language_info": {
   "codemirror_mode": {
    "name": "ipython",
    "version": 3
   },
   "file_extension": ".py",
   "mimetype": "text/x-python",
   "name": "python",
   "nbconvert_exporter": "python",
   "pygments_lexer": "ipython3",
   "version": "3.12.3"
  }
 },
 "nbformat": 4,
 "nbformat_minor": 5
}
