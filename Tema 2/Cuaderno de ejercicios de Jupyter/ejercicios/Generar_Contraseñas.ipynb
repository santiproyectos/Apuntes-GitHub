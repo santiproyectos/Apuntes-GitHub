{
 "cells": [
  {
   "cell_type": "code",
   "execution_count": 13,
   "id": "6809e084-5583-46b7-a5ce-c735112bd221",
   "metadata": {},
   "outputs": [
    {
     "name": "stdout",
     "output_type": "stream",
     "text": [
      "Requirement already satisfied: pyperclip in c:\\users\\acer\\anaconda3\\lib\\site-packages (1.9.0)\n",
      "Note: you may need to restart the kernel to use updated packages.\n"
     ]
    }
   ],
   "source": [
    "pip install pyperclip\n"
   ]
  },
  {
   "cell_type": "code",
   "execution_count": 14,
   "id": "1634dc3a-c398-4b89-8597-989662cce57f",
   "metadata": {},
   "outputs": [],
   "source": [
    "import tkinter as tk\n",
    "from tkinter import messagebox\n",
    "import random\n",
    "import string\n",
    "import pyperclip\n",
    "\n",
    "def generar_contraseña():\n",
    "    try:\n",
    "        longitud = int(entry_longitud.get())\n",
    "        if longitud < 4:\n",
    "            raise ValueError(\"Longitud mínima: 4\")\n",
    "        caracteres = string.ascii_letters + string.digits + string.punctuation\n",
    "        contraseña = ''.join(random.choice(caracteres) for _ in range(longitud))\n",
    "        entry_resultado.delete(0, tk.END)\n",
    "        entry_resultado.insert(0, contraseña)\n",
    "    except ValueError:\n",
    "        messagebox.showerror(\"Error\", \"Por favor, introduce una longitud válida (mínimo 4).\")\n",
    "\n",
    "def copiar_contraseña():\n",
    "    contraseña = entry_resultado.get()\n",
    "    if contraseña:\n",
    "        try:\n",
    "            pyperclip.copy(contraseña)  # Copiar al portapapeles\n",
    "            messagebox.showinfo(\"Copiado\", \"La contraseña ha sido copiada al portapapeles.\")\n",
    "        except Exception as e:\n",
    "            messagebox.showerror(\"Error\", f\"No se pudo copiar al portapapeles: {e}\")\n",
    "    else:\n",
    "        messagebox.showwarning(\"Atención\", \"No hay contraseña para copiar.\")\n",
    "\n",
    "# Función para mostrar el menú contextual de clic derecho\n",
    "def mostrar_menu(event):\n",
    "    menu.post(event.x_root, event.y_root)\n",
    "\n",
    "# Ventana principal\n",
    "ventana = tk.Tk()\n",
    "ventana.title(\"Generador de Contraseñas\")\n",
    "ventana.geometry(\"400x200\")\n",
    "ventana.resizable(False, False)\n",
    "\n",
    "# Widgets\n",
    "tk.Label(ventana, text=\"Longitud de la contraseña:\").pack(pady=5)\n",
    "entry_longitud = tk.Entry(ventana, justify='center')\n",
    "entry_longitud.pack()\n",
    "\n",
    "tk.Button(ventana, text=\"Generar\", command=generar_contraseña).pack(pady=10)\n",
    "\n",
    "tk.Label(ventana, text=\"Contraseña generada:\").pack()\n",
    "\n",
    "# Campo editable para la contraseña generada\n",
    "entry_resultado = tk.Entry(ventana, width=40, font=('Arial', 12), justify='center')\n",
    "entry_resultado.pack()\n",
    "\n",
    "# Crear menú contextual con opción \"Copiar\"\n",
    "menu = tk.Menu(ventana, tearoff=0)\n",
    "menu.add_command(label=\"Copiar\", command=copiar_contraseña)\n",
    "\n",
    "# Asociar el clic derecho en el campo de texto con el menú contextual\n",
    "entry_resultado.bind(\"<Button-3>\", mostrar_menu)\n",
    "\n",
    "tk.Button(ventana, text=\"Copiar\", command=copiar_contraseña).pack(pady=5)\n",
    "\n",
    "ventana.mainloop()\n",
    "\"Una vez activado el historial, puedes ver el contenido del portapapeles presionando Win + V.\""
   ]
  },
  {
   "cell_type": "code",
   "execution_count": null,
   "id": "eedebdac-dfb3-47b2-9e2b-dbb65bc01fa1",
   "metadata": {},
   "outputs": [],
   "source": []
  }
 ],
 "metadata": {
  "kernelspec": {
   "display_name": "Python 3 (ipykernel)",
   "language": "python",
   "name": "python3"
  },
  "language_info": {
   "codemirror_mode": {
    "name": "ipython",
    "version": 3
   },
   "file_extension": ".py",
   "mimetype": "text/x-python",
   "name": "python",
   "nbconvert_exporter": "python",
   "pygments_lexer": "ipython3",
   "version": "3.12.3"
  }
 },
 "nbformat": 4,
 "nbformat_minor": 5
}
