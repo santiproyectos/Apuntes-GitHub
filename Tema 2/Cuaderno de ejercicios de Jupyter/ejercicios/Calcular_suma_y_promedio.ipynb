{
 "cells": [
  {
   "cell_type": "markdown",
   "id": "0067e5c1-dea9-4b3d-bf5d-ade87ead2cfe",
   "metadata": {},
   "source": [
    "Calcular la suma y promedio de una lista de números\n",
    "🎯 Objetivo\n",
    "\n",
    "Crear una función en Python que reciba una lista de números y devuelva un diccionario con dos resultados:\n",
    "\n",
    "La suma total de todos los elementos.\n",
    "\n",
    "El promedio de esos elementos.\n",
    "\n",
    "📌 Instrucciones\n",
    "\n",
    "Define una función llamada calcular_suma_y_promedio que reciba una lista de números como parámetro.\n",
    "\n",
    "Dentro de la función:\n",
    "\n",
    "Crea una variable para guardar la suma de los elementos, comenzando en 0.\n",
    "\n",
    "Crea una variable para contar cuántos elementos hay en la lista.\n",
    "\n",
    "Recorre cada número de la lista utilizando un bucle for:\n",
    "\n",
    "Suma el número actual a la variable suma.\n",
    "\n",
    "Aumenta el contador en 1 por cada número recorrido.\n",
    "\n",
    "Una vez terminado el bucle:\n",
    "\n",
    "Calcula el promedio dividiendo la suma total entre el número de elementos (contador).\n",
    "\n",
    "Importante: si la lista está vacía, el promedio debe ser 0 para evitar errores.\n",
    "\n",
    "Devuelve un diccionario con dos claves:\n",
    "\n",
    "\"suma\": el total de la suma.\n",
    "\n",
    "\"promedio\": el valor del promedio.\n",
    "\n",
    "Fuera de la función, crea una lista de prueba llamada numeros con algunos valores, por ejemplo [1, 2, 3, 4, 5].\n",
    "\n",
    "Llama a la función con esa lista y muestra por pantalla los resultados accediendo a las claves del diccionario.\n",
    "\n",
    "🧪 Ejemplo de uso\n",
    "\n",
    "# Pruebas\n",
    "numeros = [1, 2, 3, 4, 5]\n",
    "resultado = calcular_suma_y_promedio(numeros)\n",
    "print(\"Suma:\", resultado[\"suma\"])\n",
    "print(\"Promedio:\", resultado[\"promedio\"])\n",
    "\n",
    "\n",
    "Suma: 15\n",
    "Promedio: 3.0"
   ]
  },
  {
   "cell_type": "code",
   "execution_count": 1,
   "id": "98009a7f-7c86-4369-9dfd-ce44a08549ff",
   "metadata": {},
   "outputs": [
    {
     "name": "stdout",
     "output_type": "stream",
     "text": [
      "Suma: 45\n",
      "Promedio: 5.0\n"
     ]
    }
   ],
   "source": [
    "def calcular_suma_y_promedio(lista_numeros):\n",
    "    if len(lista_numeros) == 0:\n",
    "        return {\"suma\": 0, \"promedio\": 0}\n",
    "    suma = 0\n",
    "    for numero in lista_numeros:\n",
    "        suma += numero \n",
    "    promedio = suma / len(lista_numeros)\n",
    "    resultados = {\"suma\": suma, \"promedio\": promedio}\n",
    "    return resultados\n",
    "lista_numeros = [1, 2, 3, 4, 5, 6, 7,8,9]\n",
    "resultado = calcular_suma_y_promedio(lista_numeros)\n",
    "print(\"Suma:\", resultado[\"suma\"])\n",
    "print(\"Promedio:\", resultado[\"promedio\"])"
   ]
  },
  {
   "cell_type": "code",
   "execution_count": null,
   "id": "d90199bd-7346-4f14-8a16-08dd787f7e88",
   "metadata": {},
   "outputs": [],
   "source": []
  }
 ],
 "metadata": {
  "kernelspec": {
   "display_name": "Python 3 (ipykernel)",
   "language": "python",
   "name": "python3"
  },
  "language_info": {
   "codemirror_mode": {
    "name": "ipython",
    "version": 3
   },
   "file_extension": ".py",
   "mimetype": "text/x-python",
   "name": "python",
   "nbconvert_exporter": "python",
   "pygments_lexer": "ipython3",
   "version": "3.12.3"
  }
 },
 "nbformat": 4,
 "nbformat_minor": 5
}
