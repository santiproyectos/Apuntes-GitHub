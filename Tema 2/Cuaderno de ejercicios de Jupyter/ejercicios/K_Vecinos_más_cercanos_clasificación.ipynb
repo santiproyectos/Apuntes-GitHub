{
 "cells": [
  {
   "cell_type": "markdown",
   "id": "0505b3fe-5b3c-4352-b0b2-7cebc5c0b0cf",
   "metadata": {},
   "source": [
    "K Vecinos Más Cercanos para Clasificación\n",
    "En este ejercicio debes desarrollar una función que aplique el algoritmo de los k vecinos más cercanos (KNN) para un problema de clasificación.\n",
    "\n",
    "Supongamos que tienes un conjunto de datos que contiene información sobre diferentes tipos de flores, y deseas predecir el tipo de flor en función de las características de pétalos y sépalos.\n",
    "\n",
    "Utilizaremos el conjunto de datos Iris, que es un conjunto de datos de clasificación ampliamente utilizado en el aprendizaje automático.\n",
    "\n",
    "\n",
    "\n",
    "def knn_clasificacion(datos, k=3):\n",
    "\n",
    "\n",
    "\n",
    "# Ejemplo de uso con el conjunto de datos Iris\n",
    "data = pd.read_csv('iris.csv')  # Reemplaza 'iris.csv' con tu archivo de datos\n",
    "modelo_knn = knn_clasificacion(data, k=3)\n",
    " \n",
    "# Estimaciones de clasificación para nuevas muestras\n",
    "nuevas_muestras = pd.DataFrame({\n",
    "    'LargoSepalo': [5.1, 6.0, 4.4],\n",
    "    'AnchoSepalo': [3.5, 2.9, 3.2],\n",
    "    'LargoPetalo': [1.4, 4.5, 1.3],\n",
    "    'AnchoPetalo': [0.2, 1.5, 0.2]\n",
    "})\n",
    " \n",
    "estimaciones_clasificacion = modelo_knn.predict(nuevas_muestras)\n",
    "print(\"Estimaciones de Clasificación:\")\n",
    "print(estimaciones_clasificacion)\n",
    "\n",
    "\n",
    "Resultados:\n",
    "\n",
    "\n",
    "\n",
    "Estimaciones de Clasificación:\n",
    "['setosa' 'versicolor' 'setosa']"
   ]
  },
  {
   "cell_type": "code",
   "execution_count": 3,
   "id": "00276314-1fdf-40b0-80b7-e45dcbf0ebe9",
   "metadata": {},
   "outputs": [],
   "source": [
    "import pandas as pd\n",
    "from sklearn.neighbors import KNeighborsClassifier\n",
    "\n",
    "# Función de clasificación KNN\n",
    "def knn_clasificacion(datos, k=3):\n",
    "    X = datos[['sepal length (cm)', 'sepal width (cm)', 'petal length (cm)', 'petal width (cm)']]\n",
    "    y = datos['species']\n",
    "\n",
    "    modelo = KNeighborsClassifier(n_neighbors=k)\n",
    "    modelo.fit(X, y)\n",
    "    return modelo\n"
   ]
  },
  {
   "cell_type": "code",
   "execution_count": 4,
   "id": "09f09408-9b8e-4827-914d-1ca35fe9fcdb",
   "metadata": {},
   "outputs": [
    {
     "name": "stdout",
     "output_type": "stream",
     "text": [
      "Estimaciones de Clasificación:\n",
      "['setosa' 'versicolor' 'setosa']\n"
     ]
    }
   ],
   "source": [
    "from sklearn.datasets import load_iris\n",
    "import pandas as pd\n",
    "\n",
    "# Cargar el dataset Iris desde sklearn\n",
    "iris = load_iris(as_frame=True)\n",
    "data = iris.frame\n",
    "data['species'] = iris.target_names[iris.target]  # Convertir índice a nombre de especie\n",
    "\n",
    "# Entrenar el modelo con k=3\n",
    "modelo_knn = knn_clasificacion(data, k=3)\n",
    "\n",
    "# Nuevas muestras (con los nombres correctos)\n",
    "nuevas_muestras = pd.DataFrame({\n",
    "    'sepal length (cm)': [5.1, 6.0, 4.4],\n",
    "    'sepal width (cm)': [3.5, 2.9, 3.2],\n",
    "    'petal length (cm)': [1.4, 4.5, 1.3],\n",
    "    'petal width (cm)': [0.2, 1.5, 0.2]\n",
    "})\n",
    "\n",
    "# Predicción de clases\n",
    "estimaciones_clasificacion = modelo_knn.predict(nuevas_muestras)\n",
    "print(\"Estimaciones de Clasificación:\")\n",
    "print(estimaciones_clasificacion)\n"
   ]
  },
  {
   "cell_type": "code",
   "execution_count": null,
   "id": "8a9a5a5e-4ffb-4e72-ab07-9ec09e7fcbc1",
   "metadata": {},
   "outputs": [],
   "source": []
  }
 ],
 "metadata": {
  "kernelspec": {
   "display_name": "Python 3 (ipykernel)",
   "language": "python",
   "name": "python3"
  },
  "language_info": {
   "codemirror_mode": {
    "name": "ipython",
    "version": 3
   },
   "file_extension": ".py",
   "mimetype": "text/x-python",
   "name": "python",
   "nbconvert_exporter": "python",
   "pygments_lexer": "ipython3",
   "version": "3.12.3"
  }
 },
 "nbformat": 4,
 "nbformat_minor": 5
}
