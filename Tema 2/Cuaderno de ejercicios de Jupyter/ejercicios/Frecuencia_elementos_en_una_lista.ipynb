{
 "cells": [
  {
   "cell_type": "markdown",
   "id": "c30a777d-ed7e-4b36-a4c5-1e3461fab212",
   "metadata": {},
   "source": [
    "Frecuencia de elementos en una lista\n",
    "🎯 Objetivo\n",
    "\n",
    "Crear una función que reciba una lista de elementos y devuelva un diccionario con la frecuencia de aparición de cada elemento en la lista.\n",
    "\n",
    "\n",
    "\n",
    "📌 Instrucciones\n",
    "\n",
    "Definir la función:\n",
    "\n",
    "Llama a la función contar_frecuencia que tomará como parámetro una lista de elementos.\n",
    "\n",
    "Inicializar un diccionario:\n",
    "\n",
    "Dentro de la función, crea un diccionario vacío llamado frecuencia para almacenar la cantidad de veces que cada elemento aparece en la lista.\n",
    "\n",
    "Usar un bucle while:\n",
    "\n",
    "Utiliza un bucle while para recorrer la lista de elementos. El bucle debe continuar mientras no se haya recorrido toda la lista.\n",
    "\n",
    "Comprobar si el elemento ya está en el diccionario:\n",
    "\n",
    "Para cada elemento de la lista:\n",
    "\n",
    "Si el elemento ya está en el diccionario, incrementa su frecuencia en 1.\n",
    "\n",
    "Si el elemento no está en el diccionario, agrega el elemento con una frecuencia inicial de 1.\n",
    "\n",
    "Incrementar el índice:\n",
    "\n",
    "Al final de cada iteración del bucle, incrementa el índice i para pasar al siguiente elemento de la lista.\n",
    "\n",
    "Devolver el diccionario:\n",
    "\n",
    "Al finalizar el recorrido de la lista, devuelve el diccionario frecuencia que contiene la cantidad de veces que cada elemento aparece en la lista.\n",
    "\n",
    "Prueba la función:\n",
    "\n",
    "Fuera de la función, crea una lista con algunos elementos repetidos, por ejemplo [1, 2, 2, 3, 1, 2, 4, 5, 4].\n",
    "\n",
    "\n",
    "\n",
    "🧪 Ejemplo\n",
    "\n",
    "# Ejemplo de uso\n",
    "elementos = [1, 2, 2, 3, 1, 2, 4, 5, 4]\n",
    "resultado = contar_frecuencia(elementos)\n",
    "print(resultado)\n",
    "\n",
    "\n",
    "Salida esperada\n",
    "\n",
    "{1: 2, 2: 3, 3: 1, 4: 2, 5: 1}\n"
   ]
  },
  {
   "cell_type": "code",
   "execution_count": 1,
   "id": "ac19a380-d051-4324-9289-88716b8361b3",
   "metadata": {},
   "outputs": [
    {
     "name": "stdout",
     "output_type": "stream",
     "text": [
      "{1: 2, 2: 2, 3: 2, 4: 1, 12: 1, 5: 2, 6: 1}\n"
     ]
    }
   ],
   "source": [
    "lista = [1,2,3,4,3,12,5,2,1,5,6]\n",
    "def contar_frecuencia(lista):\n",
    "    frecuencia = {}\n",
    "    i = 0\n",
    "    while i < len(lista):  \n",
    "        numero = lista [i]  \n",
    "        if numero in frecuencia:\n",
    "            frecuencia[numero] += 1  \n",
    "        else:\n",
    "            frecuencia[numero] = 1  \n",
    "        i += 1\n",
    "    return frecuencia   \n",
    "resultado = contar_frecuencia(lista)\n",
    "print(resultado) "
   ]
  },
  {
   "cell_type": "code",
   "execution_count": null,
   "id": "b159fe00-e501-4f7e-9b17-d0aa881be114",
   "metadata": {},
   "outputs": [],
   "source": []
  }
 ],
 "metadata": {
  "kernelspec": {
   "display_name": "Python 3 (ipykernel)",
   "language": "python",
   "name": "python3"
  },
  "language_info": {
   "codemirror_mode": {
    "name": "ipython",
    "version": 3
   },
   "file_extension": ".py",
   "mimetype": "text/x-python",
   "name": "python",
   "nbconvert_exporter": "python",
   "pygments_lexer": "ipython3",
   "version": "3.12.3"
  }
 },
 "nbformat": 4,
 "nbformat_minor": 5
}
