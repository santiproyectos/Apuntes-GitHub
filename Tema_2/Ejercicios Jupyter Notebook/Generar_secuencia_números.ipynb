{
 "cells": [
  {
   "cell_type": "markdown",
   "id": "e4052629-0a24-4047-ba63-e83942b51bf7",
   "metadata": {},
   "source": [
    "Generar una Secuencia de Números\n",
    "Desarrolla una función llamada generar_secuencia_numerica que tome como entrada un valor mínimo minimo, un valor máximo maximo y un paso paso, y utilice NumPy para generar una secuencia de números en el rango [minimo, maximo) con el paso especificado.\n",
    "\n",
    "\n",
    "\n",
    "def generar_secuencia_numerica(minimo, maximo, paso):\n",
    "\n",
    "   \n",
    "\n",
    "# Ejemplo de uso\n",
    "minimo = 0\n",
    "maximo = 10\n",
    "paso = 2\n",
    "resultado = generar_secuencia_numerica(minimo, maximo, paso)\n",
    "print(resultado)\n",
    "\n",
    "\n",
    "Resultado\n",
    "\n",
    "[0 2 4 6 8]\n",
    "\n",
    "\n",
    "Tipo de datos del resultado\n",
    "\n",
    "type(resultado)\n",
    "\n",
    "\n",
    "\n",
    "numpy.ndarray"
   ]
  },
  {
   "cell_type": "code",
   "execution_count": 1,
   "id": "edb3a45b-00a5-4e22-baf3-110e3d91d1c3",
   "metadata": {},
   "outputs": [],
   "source": [
    "import numpy as np\n",
    "\n",
    "def generar_secuencia_numerica(minimo, maximo, paso):\n",
    "     return np.arange(minimo, maximo, paso)"
   ]
  },
  {
   "cell_type": "code",
   "execution_count": 2,
   "id": "000e8efb-da3a-47a5-91dd-9ebc2a9987f6",
   "metadata": {},
   "outputs": [
    {
     "name": "stdout",
     "output_type": "stream",
     "text": [
      "[0 2 4 6 8]\n"
     ]
    }
   ],
   "source": [
    "# Ejemplo de uso\n",
    "minimo = 0\n",
    "maximo = 10\n",
    "paso = 2\n",
    "resultado = generar_secuencia_numerica(minimo, maximo, paso)\n",
    "print(resultado)"
   ]
  },
  {
   "cell_type": "code",
   "execution_count": null,
   "id": "2b0f9cf3-4058-499d-a1ae-b19dfa9c980b",
   "metadata": {},
   "outputs": [],
   "source": []
  }
 ],
 "metadata": {
  "kernelspec": {
   "display_name": "Python 3 (ipykernel)",
   "language": "python",
   "name": "python3"
  },
  "language_info": {
   "codemirror_mode": {
    "name": "ipython",
    "version": 3
   },
   "file_extension": ".py",
   "mimetype": "text/x-python",
   "name": "python",
   "nbconvert_exporter": "python",
   "pygments_lexer": "ipython3",
   "version": "3.12.3"
  }
 },
 "nbformat": 4,
 "nbformat_minor": 5
}
