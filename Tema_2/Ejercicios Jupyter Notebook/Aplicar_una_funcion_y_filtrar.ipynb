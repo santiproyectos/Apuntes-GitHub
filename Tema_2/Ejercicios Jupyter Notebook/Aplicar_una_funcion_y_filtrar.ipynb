{
 "cells": [
  {
   "cell_type": "markdown",
   "id": "a47ff0d5-e1a2-4047-9150-3c20ecfbfd52",
   "metadata": {},
   "source": [
    "Aplicar una Función y Filtrar Elementos en una Lista\n",
    "🎯 Objetivo\n",
    "\n",
    "Crear una función que reciba una lista de números y un valor umbral. La función debe aplicar una operación a cada número (como elevarlo al cuadrado) y luego filtrar aquellos resultados que sean mayores que el valor umbral.\n",
    "\n",
    "\n",
    "\n",
    "📌 Instrucciones\n",
    "\n",
    "Definir la función:\n",
    "\n",
    "Llama a la función aplicar_funcion_y_filtrar, que tomará como parámetros una lista de números lista y un número valor_umbral.\n",
    "\n",
    "Aplicar una función con map:\n",
    "\n",
    "Usa la función map para aplicar una operación a cada elemento de la lista. En este caso, la operación será elevar al cuadrado cada número de la lista.\n",
    "\n",
    "Filtrar los resultados con filter:\n",
    "\n",
    "Después de aplicar la función, usa la función filter para filtrar los elementos que sean mayores que el valor umbral (valor_umbral).\n",
    "\n",
    "Devolver los resultados:\n",
    "\n",
    "La función debe devolver una lista con los elementos que pasen el filtro.\n",
    "\n",
    "Prueba la función:\n",
    "\n",
    "Fuera de la función, crea una lista de números, por ejemplo [1, 2, 3, 4, 5], y un valor umbral (por ejemplo, 3).\n",
    "\n",
    "Llama a la función con esta lista y umbral, y muestra el resultado.\n",
    "\n",
    "\n",
    "\n",
    "Ejemplo de entrada y salida:\n",
    "\n",
    "numeros = [1, 2, 3, 4, 5]\n",
    "valor_umbral = 3\n",
    "resultado = aplicar_funcion_y_filtrar(numeros, valor_umbral)\n",
    "print(resultado)\n",
    "Salida esperada:\n",
    "\n",
    "[4, 9, 16, 25]"
   ]
  },
  {
   "cell_type": "code",
   "execution_count": 1,
   "id": "cec71d20-ef5e-437e-b400-0c310aa6de5c",
   "metadata": {},
   "outputs": [
    {
     "name": "stdout",
     "output_type": "stream",
     "text": [
      "[16, 25]\n"
     ]
    }
   ],
   "source": [
    "lista = [1,2,3,4,5]\n",
    "umbral = 10\n",
    "def aplicar_funcion_y_filtrar(lista, valor_umbral):\n",
    "    lista_al_cuadrado = map(lambda x: x ** 2, lista)\n",
    "    resultado_filtrado = filter(lambda x: x > valor_umbral, lista_al_cuadrado)\n",
    "    return list(resultado_filtrado) \n",
    "resultado = aplicar_funcion_y_filtrar(lista, umbral)\n",
    "print (resultado)"
   ]
  },
  {
   "cell_type": "code",
   "execution_count": null,
   "id": "e3adf2d8-d1fb-426c-85b5-94a22cb0f540",
   "metadata": {},
   "outputs": [],
   "source": []
  }
 ],
 "metadata": {
  "kernelspec": {
   "display_name": "Python 3 (ipykernel)",
   "language": "python",
   "name": "python3"
  },
  "language_info": {
   "codemirror_mode": {
    "name": "ipython",
    "version": 3
   },
   "file_extension": ".py",
   "mimetype": "text/x-python",
   "name": "python",
   "nbconvert_exporter": "python",
   "pygments_lexer": "ipython3",
   "version": "3.12.3"
  }
 },
 "nbformat": 4,
 "nbformat_minor": 5
}
