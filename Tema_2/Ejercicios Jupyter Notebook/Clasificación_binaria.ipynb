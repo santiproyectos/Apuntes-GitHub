{
 "cells": [
  {
   "cell_type": "markdown",
   "id": "59994f66-9122-4870-816e-1096f857784a",
   "metadata": {},
   "source": [
    "Clasificación Binaria\n",
    "Supongamos que tienes un conjunto de datos que contiene información sobre pacientes y deseas predecir si un paciente tiene una enfermedad (1) o no (0) en función de algunas características médicas, como la edad y los niveles de colesterol.\n",
    "\n",
    "Tu tarea es desarrollar una función llamada regresion_logistica que tome estos datos como entrada y ajuste un modelo de regresión logística para la clasificación binaria.\n",
    "\n",
    "\n",
    "\n",
    "def regresion_logistica(datos):\n",
    "\n",
    "   \n",
    "\n",
    "# Ejemplo de uso con datos de pacientes\n",
    "data = {\n",
    "    'Edad': [50, 35, 65, 28, 60],\n",
    "    'Colesterol': [180, 150, 210, 130, 190],\n",
    "    'Enfermedad': [1, 0, 1, 0, 1]\n",
    "}\n",
    " \n",
    "df = pd.DataFrame(data)\n",
    "modelo_regresion_logistica = regresion_logistica(df)\n",
    " \n",
    "# Estimaciones de clasificación binaria para nuevos datos\n",
    "nuevos_datos = pd.DataFrame({'Edad': [45, 55], 'Colesterol': [170, 200]})\n",
    "estimaciones_clasificacion = modelo_regresion_logistica.predict(nuevos_datos)\n",
    "print(\"Estimaciones de Clasificación:\")\n",
    "print(estimaciones_clasificacion)\n",
    "\n",
    "\n",
    "Resultados:\n",
    "\n",
    "\n",
    "\n",
    "Estimaciones de Clasificación:\n",
    "[1 1]\n"
   ]
  },
  {
   "cell_type": "code",
   "execution_count": 1,
   "id": "c2ca46a0-0756-4814-8607-4f443296a7fd",
   "metadata": {},
   "outputs": [
    {
     "name": "stdout",
     "output_type": "stream",
     "text": [
      "Estimaciones de Clasificación:\n",
      "[1 1]\n"
     ]
    }
   ],
   "source": [
    "import pandas as pd\n",
    "from sklearn.linear_model import LogisticRegression\n",
    "\n",
    "# Función de regresión logística\n",
    "def regresion_logistica(datos):\n",
    "    X = datos[['Edad', 'Colesterol']]  \n",
    "    y = datos['Enfermedad']             \n",
    "    modelo = LogisticRegression()\n",
    "    modelo.fit(X, y)\n",
    "    return modelo\n",
    "data = {'Edad': [50, 35, 65, 28, 60],'Colesterol': [180, 150, 210, 130, 190],'Enfermedad': [1, 0, 1, 0, 1]}\n",
    "df = pd.DataFrame(data)\n",
    "modelo_regresion_logistica = regresion_logistica(df)\n",
    "nuevos_datos = pd.DataFrame({'Edad': [45, 55],'Colesterol': [170, 200]})\n",
    "estimaciones_clasificacion = modelo_regresion_logistica.predict(nuevos_datos)\n",
    "print(\"Estimaciones de Clasificación:\")\n",
    "print(estimaciones_clasificacion)\n",
    "    "
   ]
  },
  {
   "cell_type": "code",
   "execution_count": null,
   "id": "5ae8fed4-4e07-48a7-98fe-6c6a92c2d678",
   "metadata": {},
   "outputs": [],
   "source": []
  }
 ],
 "metadata": {
  "kernelspec": {
   "display_name": "Python 3 (ipykernel)",
   "language": "python",
   "name": "python3"
  },
  "language_info": {
   "codemirror_mode": {
    "name": "ipython",
    "version": 3
   },
   "file_extension": ".py",
   "mimetype": "text/x-python",
   "name": "python",
   "nbconvert_exporter": "python",
   "pygments_lexer": "ipython3",
   "version": "3.12.3"
  }
 },
 "nbformat": 4,
 "nbformat_minor": 5
}
