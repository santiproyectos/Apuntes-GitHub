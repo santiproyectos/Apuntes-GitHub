{
 "cells": [
  {
   "cell_type": "markdown",
   "id": "e9e6e370-2038-49b9-b57a-aef27a9a5b68",
   "metadata": {},
   "source": [
    "\n",
    "Arboles de decisión\n",
    "Implementar una función en Python que entrene un árbol de decisión y lo use para hacer predicciones en un conjunto de datos.\n",
    "\n",
    "Instrucciones\n",
    "\n",
    "Implementa una función llamada entrenar_arbol_decision(X_train, y_train, X_test) que:\n",
    "\n",
    "Entrene un árbol de decisión con los datos de entrenamiento X_train y y_train.\n",
    "\n",
    "Prediga los valores de X_test.\n",
    "\n",
    "Devuelva un array con las predicciones.\n",
    "\n",
    "Usa DecisionTreeClassifier de sklearn.tree con random_state=42 para asegurar reproducibilidad.\n",
    "\n",
    "No modifiques los parámetros de entrenamiento (como la profundidad del árbol o la función de división).\n",
    "\n",
    "Prueba la función con un conjunto de datos real como el conjunto de datos de flores Iris.\n",
    "\n",
    "\n",
    "\n",
    "Ejemplo de Uso\n",
    "\n",
    "Tu función debe funcionar correctamente con este código de prueba:\n",
    "\n",
    "\n",
    "\n",
    "from sklearn.datasets import load_iris\n",
    "from sklearn.model_selection import train_test_split\n",
    "import numpy as np\n",
    " \n",
    "# Cargar el dataset de flores Iris\n",
    "iris = load_iris()\n",
    "X = iris.data  # Características\n",
    "y = iris.target  # Clases de las flores (Setosa, Versicolor, Virginica)\n",
    " \n",
    "# Dividir en conjunto de entrenamiento y prueba (80%-20%)\n",
    "X_train, X_test, y_train, y_test = train_test_split(X, y, test_size=0.2, random_state=42)\n",
    " \n",
    "# Llamar a la función que debes implementar\n",
    "predicciones = entrenar_arbol_decision(X_train, y_train, X_test)\n",
    " \n",
    "# Mostrar algunas predicciones\n",
    "print(\"Predicciones del Árbol de Decisión:\", predicciones[:10])\n",
    "print(\"Valores reales:                    \", y_test[:10])"
   ]
  },
  {
   "cell_type": "code",
   "execution_count": 1,
   "id": "8f6f6f6f-82ca-4ad6-b15e-7b48e29f46a9",
   "metadata": {},
   "outputs": [
    {
     "name": "stdout",
     "output_type": "stream",
     "text": [
      "Predicciones del Árbol de Decisión: [1 0 2 1 1 0 1 2 1 1]\n",
      "Valores reales:                     [1 0 2 1 1 0 1 2 1 1]\n"
     ]
    }
   ],
   "source": [
    "from sklearn.tree import DecisionTreeClassifier\n",
    "import numpy as np\n",
    "\n",
    "def entrenar_arbol_decision(X_train, y_train, X_test):\n",
    "    arbol = DecisionTreeClassifier(random_state=42)\n",
    "    arbol.fit(X_train, y_train)\n",
    "    predicciones = arbol.predict(X_test)\n",
    "    return predicciones\n",
    "from sklearn.datasets import load_iris\n",
    "from sklearn.model_selection import train_test_split\n",
    "iris = load_iris()\n",
    "X = iris.data  \n",
    "y = iris.target  \n",
    "X_train, X_test, y_train, y_test = train_test_split(X, y, test_size=0.2, random_state=42)\n",
    "predicciones = entrenar_arbol_decision(X_train, y_train, X_test)\n",
    "print(\"Predicciones del Árbol de Decisión:\", predicciones[:10])\n",
    "print(\"Valores reales:                    \", y_test[:10])\n"
   ]
  },
  {
   "cell_type": "code",
   "execution_count": null,
   "id": "33d9eb6e-1b64-4743-b832-bde7ea1c46ff",
   "metadata": {},
   "outputs": [],
   "source": []
  }
 ],
 "metadata": {
  "kernelspec": {
   "display_name": "Python 3 (ipykernel)",
   "language": "python",
   "name": "python3"
  },
  "language_info": {
   "codemirror_mode": {
    "name": "ipython",
    "version": 3
   },
   "file_extension": ".py",
   "mimetype": "text/x-python",
   "name": "python",
   "nbconvert_exporter": "python",
   "pygments_lexer": "ipython3",
   "version": "3.12.3"
  }
 },
 "nbformat": 4,
 "nbformat_minor": 5
}
