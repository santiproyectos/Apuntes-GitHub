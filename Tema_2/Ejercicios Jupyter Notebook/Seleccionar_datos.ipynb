{
 "cells": [
  {
   "cell_type": "markdown",
   "id": "410db270-2ad9-4826-bd64-544eb38db208",
   "metadata": {},
   "source": [
    "Seleccionar datos\n",
    "Objetivo:\n",
    "El objetivo de este ejercicio es familiarizarte con la manipulación de datos en pandas, utilizando filtros y criterios personalizados para seleccionar subconjuntos de datos en un DataFrame.\n",
    "\n",
    "Contexto:\n",
    "Imagina que estás trabajando con un conjunto de datos de estudiantes, donde cada registro contiene el nombre, la edad y las calificaciones de cada uno. Tienes la tarea de implementar una función que permita seleccionar ciertos registros de acuerdo con un criterio dado (por ejemplo, edad mayor a 18 años).\n",
    "\n",
    "Tarea:\n",
    "\n",
    "Crea una función llamada seleccionar_datos(dataframe, criterio) que tome dos argumentos:\n",
    "\n",
    "dataframe: un DataFrame de pandas que contiene varios registros.\n",
    "\n",
    "criterio: una cadena que representa una expresión de consulta que pandas puede entender (como edad > 18 o calificaciones >= 90).\n",
    "\n",
    "La función debe usar este criterio para filtrar los datos y devolver solo los registros que cumplan con el criterio.\n",
    "\n",
    "Requisitos:\n",
    "\n",
    "Utiliza el método query() de pandas para aplicar el filtro de manera eficiente.\n",
    "\n",
    "Asegúrate de que la función sea flexible y permita cambiar el criterio de selección.\n",
    "\n",
    "   \n",
    "\n",
    "# Ejemplo de uso\n",
    "data = {\n",
    "    'nombre': ['Alice', 'Bob', 'Charlie', 'David'],\n",
    "    'edad': [20, 22, 18, 25],\n",
    "    'calificaciones': [90, 88, 75, 95]\n",
    "}\n",
    " \n",
    "df = pd.DataFrame(data)\n",
    "criterio = 'edad > 18'\n",
    "resultado = seleccionar_datos(df, criterio)\n",
    "print(resultado)\n",
    "\n",
    "\n",
    "  nombre  edad  calificaciones\n",
    "0  Alice    20              90\n",
    "1    Bob    22              88\n",
    "3  David    25              95"
   ]
  },
  {
   "cell_type": "code",
   "execution_count": 1,
   "id": "7818d92e-141b-4ca8-a7f7-1c008c0e6e14",
   "metadata": {},
   "outputs": [
    {
     "data": {
      "text/html": [
       "<div>\n",
       "<style scoped>\n",
       "    .dataframe tbody tr th:only-of-type {\n",
       "        vertical-align: middle;\n",
       "    }\n",
       "\n",
       "    .dataframe tbody tr th {\n",
       "        vertical-align: top;\n",
       "    }\n",
       "\n",
       "    .dataframe thead th {\n",
       "        text-align: right;\n",
       "    }\n",
       "</style>\n",
       "<table border=\"1\" class=\"dataframe\">\n",
       "  <thead>\n",
       "    <tr style=\"text-align: right;\">\n",
       "      <th></th>\n",
       "      <th>nombre</th>\n",
       "      <th>edad</th>\n",
       "      <th>calificaciones</th>\n",
       "    </tr>\n",
       "  </thead>\n",
       "  <tbody>\n",
       "    <tr>\n",
       "      <th>0</th>\n",
       "      <td>Alice</td>\n",
       "      <td>20</td>\n",
       "      <td>90</td>\n",
       "    </tr>\n",
       "    <tr>\n",
       "      <th>1</th>\n",
       "      <td>Bob</td>\n",
       "      <td>22</td>\n",
       "      <td>88</td>\n",
       "    </tr>\n",
       "    <tr>\n",
       "      <th>3</th>\n",
       "      <td>David</td>\n",
       "      <td>25</td>\n",
       "      <td>95</td>\n",
       "    </tr>\n",
       "  </tbody>\n",
       "</table>\n",
       "</div>"
      ],
      "text/plain": [
       "  nombre  edad  calificaciones\n",
       "0  Alice    20              90\n",
       "1    Bob    22              88\n",
       "3  David    25              95"
      ]
     },
     "execution_count": 1,
     "metadata": {},
     "output_type": "execute_result"
    }
   ],
   "source": [
    "import pandas as pd\n",
    "\n",
    "def seleccionar_datos(dataframe, criterio):\n",
    "    return dataframe.query(criterio)\n",
    "datos = {'nombre': ['Alice', 'Bob', 'Charlie', 'David'],'edad': [20, 22, 18, 25],'calificaciones': [90, 88, 75, 95]}    \n",
    "dataframe = pd.DataFrame(datos)\n",
    "criterio = 'edad > 18'\n",
    "resultado = seleccionar_datos(dataframe, criterio)\n",
    "resultado"
   ]
  },
  {
   "cell_type": "code",
   "execution_count": null,
   "id": "9f47f660-f9b0-446e-8444-838313c16a93",
   "metadata": {},
   "outputs": [],
   "source": []
  }
 ],
 "metadata": {
  "kernelspec": {
   "display_name": "Python 3 (ipykernel)",
   "language": "python",
   "name": "python3"
  },
  "language_info": {
   "codemirror_mode": {
    "name": "ipython",
    "version": 3
   },
   "file_extension": ".py",
   "mimetype": "text/x-python",
   "name": "python",
   "nbconvert_exporter": "python",
   "pygments_lexer": "ipython3",
   "version": "3.12.3"
  }
 },
 "nbformat": 4,
 "nbformat_minor": 5
}
