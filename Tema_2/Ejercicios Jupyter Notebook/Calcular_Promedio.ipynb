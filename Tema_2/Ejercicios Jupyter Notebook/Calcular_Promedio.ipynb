{
 "cells": [
  {
   "cell_type": "markdown",
   "id": "89a13739-bfaf-49a5-ad38-d29e2e1b3b8a",
   "metadata": {},
   "source": [
    "Calcular promedio\n",
    "Estás trabajando con una tabla de datos numéricos almacenada en un DataFrame de pandas. El objetivo es calcular el promedio de cada columna de manera automatizada, sin usar bucles explícitos.\n",
    "\n",
    "Sigue estos pasos para construir la solución:\n",
    "\n",
    "Crea una función llamada calcular_promedio(dataframe) que reciba un DataFrame como parámetro.\n",
    "\n",
    "Dentro de la función, usa un método de pandas que calcule el promedio de cada columna automáticamente. Evita usar bucles for o while.\n",
    "\n",
    "Retorna los valores promedio como resultado de la función.\n",
    "\n",
    "Prueba tu función con un DataFrame de ejemplo que contenga varias columnas con números enteros.\n",
    "\n",
    "Imprime el resultado y asegúrate de que sea una Serie de pandas con el promedio de cada columna.\n",
    "\n",
    "\n",
    "\n",
    "# Ejemplo de uso\n",
    "data = {\n",
    "    'A': [1, 2, 3, 4],\n",
    "    'B': [5, 6, 7, 8],\n",
    "    'C': [9, 10, 11, 12]\n",
    "}\n",
    " \n",
    "df = pd.DataFrame(data)\n",
    "resultado = calcular_promedio(df)\n",
    "print(resultado)\n",
    "\n",
    "\n",
    "Resultado\n",
    "\n",
    "\n",
    "\n",
    "A     2.5\n",
    "B     6.5\n",
    "C    10.5\n",
    "dtype: float64\n"
   ]
  },
  {
   "cell_type": "code",
   "execution_count": 2,
   "id": "c373bb2c-6d03-4ed1-9804-fb85ffba0401",
   "metadata": {},
   "outputs": [],
   "source": [
    "import pandas as pd\n",
    "\n",
    "def calcular_promedio(dataframe):\n",
    "    promedio = dataframe.mean()\n",
    "    return dataframe.mean()"
   ]
  },
  {
   "cell_type": "code",
   "execution_count": 3,
   "id": "02ff52a5-6a9c-4a89-93b3-7d08a77544da",
   "metadata": {},
   "outputs": [
    {
     "name": "stdout",
     "output_type": "stream",
     "text": [
      "A     2.5\n",
      "B     6.5\n",
      "C    10.5\n",
      "dtype: float64\n"
     ]
    }
   ],
   "source": [
    "# Ejemplo de uso\n",
    "data = {\n",
    "    'A': [1, 2, 3, 4],\n",
    "    'B': [5, 6, 7, 8],\n",
    "    'C': [9, 10, 11, 12]\n",
    "}\n",
    " \n",
    "df = pd.DataFrame(data)\n",
    "resultado = calcular_promedio(df)\n",
    "print(resultado)\n"
   ]
  },
  {
   "cell_type": "code",
   "execution_count": null,
   "id": "0eb729e1-9d33-4c06-9eb4-63caa8525cbe",
   "metadata": {},
   "outputs": [],
   "source": []
  }
 ],
 "metadata": {
  "kernelspec": {
   "display_name": "Python 3 (ipykernel)",
   "language": "python",
   "name": "python3"
  },
  "language_info": {
   "codemirror_mode": {
    "name": "ipython",
    "version": 3
   },
   "file_extension": ".py",
   "mimetype": "text/x-python",
   "name": "python",
   "nbconvert_exporter": "python",
   "pygments_lexer": "ipython3",
   "version": "3.12.3"
  }
 },
 "nbformat": 4,
 "nbformat_minor": 5
}
