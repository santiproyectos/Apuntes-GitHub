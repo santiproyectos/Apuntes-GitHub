{
 "cells": [
  {
   "cell_type": "markdown",
   "id": "c2fda15a-68a1-48af-a24f-27ebdf6aea42",
   "metadata": {},
   "source": [
    "Generar N números aleatorios enteros entre un valor mínimo y máximo\n",
    "Desarrolla una función llamada generar_numeros_enteros_aleatorios que tome como entrada el número de elementos N, un valor mínimo minimo y un valor máximo maximo, y utilice NumPy para generar una lista de N números enteros aleatorios en el rango [minimo, maximo].\n",
    "\n",
    "\n",
    "\n",
    "def generar_numeros_enteros_aleatorios(N, minimo, maximo):\n",
    "\n",
    "\n",
    "\n",
    "# Ejemplo de uso\n",
    "N = 5\n",
    "minimo = 1\n",
    "maximo = 10\n",
    "resultado = generar_numeros_enteros_aleatorios(N, minimo, maximo)\n",
    "print(resultado)\n",
    "\n",
    "\n",
    "Resultado:\n",
    "\n",
    "[4, 10, 1, 8, 2]"
   ]
  },
  {
   "cell_type": "code",
   "execution_count": 1,
   "id": "9608d65d-7c65-4588-8901-805fbc4c7ce7",
   "metadata": {},
   "outputs": [],
   "source": [
    "import numpy as np\n",
    "\n",
    "def generar_numeros_enteros_aleatorios(N, minimo, maximo):\n",
    "    return np.random.randint (minimo, maximo+1, N)\n",
    "    "
   ]
  },
  {
   "cell_type": "code",
   "execution_count": 2,
   "id": "82c4912a-04e6-447e-8900-a24b463a73b5",
   "metadata": {},
   "outputs": [
    {
     "name": "stdout",
     "output_type": "stream",
     "text": [
      "[8 2 2 8 5]\n"
     ]
    }
   ],
   "source": [
    "# Ejemplo de uso\n",
    "N = 5\n",
    "minimo = 1\n",
    "maximo = 10\n",
    "resultado = generar_numeros_enteros_aleatorios(N, minimo, maximo)\n",
    "print(resultado)"
   ]
  },
  {
   "cell_type": "code",
   "execution_count": null,
   "id": "d2c4fdb5-2072-4c57-a459-1e7ce53ff4b7",
   "metadata": {},
   "outputs": [],
   "source": []
  }
 ],
 "metadata": {
  "kernelspec": {
   "display_name": "Python 3 (ipykernel)",
   "language": "python",
   "name": "python3"
  },
  "language_info": {
   "codemirror_mode": {
    "name": "ipython",
    "version": 3
   },
   "file_extension": ".py",
   "mimetype": "text/x-python",
   "name": "python",
   "nbconvert_exporter": "python",
   "pygments_lexer": "ipython3",
   "version": "3.12.3"
  }
 },
 "nbformat": 4,
 "nbformat_minor": 5
}
