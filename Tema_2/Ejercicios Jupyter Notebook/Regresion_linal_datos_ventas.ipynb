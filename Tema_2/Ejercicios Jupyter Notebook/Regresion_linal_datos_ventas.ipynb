{
 "cells": [
  {
   "cell_type": "markdown",
   "id": "9f11b472-7152-472c-a5a7-f1296814f25f",
   "metadata": {},
   "source": [
    "Regresión Lineal con Datos de Ventas\n",
    "Supongamos que tienes un conjunto de datos que contiene información sobre las ventas de una tienda y la cantidad de dinero que se gastó en publicidad en diferentes medios (por ejemplo, televisión, radio y periódico).\n",
    "\n",
    "Tu tarea es desarrollar una función llamada regresion_ventas que tome estos datos como entrada y ajuste un modelo de regresión lineal para predecir las futuras ventas en función de la inversión en publicidad.\n",
    "\n",
    "\n",
    "\n",
    "def regresion_ventas(datos):\n",
    "\n",
    " \n",
    "\n",
    "# Ejemplo de uso con datos reales\n",
    "data = {\n",
    "    'TV': [230.1, 44.5, 17.2, 151.5, 180.8],\n",
    "    'Radio': [37.8, 39.3, 45.9, 41.3, 10.8],\n",
    "    'Periodico': [69.2, 45.1, 69.3, 58.5, 58.4],\n",
    "    'Ventas': [22.1, 10.4, 9.3, 18.5, 12.9]\n",
    "}\n",
    "df = pd.DataFrame(data)\n",
    "modelo_regresion = regresion_ventas(df)\n",
    " \n",
    "# Estimaciones de ventas para nuevos datos de inversión en publicidad\n",
    "nuevos_datos = pd.DataFrame({'TV': [200, 60, 30], 'Radio': [40, 20, 10], 'Periodico': [50, 10, 5]})\n",
    "estimaciones_ventas = modelo_regresion.predict(nuevos_datos)\n",
    " \n",
    "print(\"Estimaciones de Ventas:\")\n",
    "print(estimaciones_ventas)\n",
    "\n",
    "\n",
    "Resultado:\n",
    "\n",
    "\n",
    "\n",
    "Estimaciones de Ventas:\n",
    "[21.54261464  8.48121675  4.16961329]\n",
    " "
   ]
  },
  {
   "cell_type": "code",
   "execution_count": 1,
   "id": "433b50df-bc6f-4f8f-a880-b60ae943da6f",
   "metadata": {},
   "outputs": [],
   "source": [
    "import pandas as pd\n",
    "import numpy as np\n",
    "from sklearn.linear_model import LinearRegression\n",
    "\n",
    "# Función de regresión lineal\n",
    "def regresion_ventas(datos):\n",
    "    X = datos [['TV','Radio','Periodico']]\n",
    "    Y = datos ['Ventas']\n",
    "    modelo = LinearRegression()\n",
    "    modelo.fit(X,Y)\n",
    "    return modelo\n",
    "    "
   ]
  },
  {
   "cell_type": "code",
   "execution_count": 2,
   "id": "cd98c8cc-eedc-40e7-a92d-7e7a3a564bf5",
   "metadata": {},
   "outputs": [
    {
     "name": "stdout",
     "output_type": "stream",
     "text": [
      "Estimaciones de Ventas:\n",
      "[21.54261464  8.48121675  4.16961329]\n"
     ]
    }
   ],
   "source": [
    "# Ejemplo de uso con datos reales\n",
    "data = {\n",
    "    'TV': [230.1, 44.5, 17.2, 151.5, 180.8],\n",
    "    'Radio': [37.8, 39.3, 45.9, 41.3, 10.8],\n",
    "    'Periodico': [69.2, 45.1, 69.3, 58.5, 58.4],\n",
    "    'Ventas': [22.1, 10.4, 9.3, 18.5, 12.9]\n",
    "}\n",
    "df = pd.DataFrame(data)\n",
    "modelo_regresion = regresion_ventas(df)\n",
    " \n",
    "# Estimaciones de ventas para nuevos datos de inversión en publicidad\n",
    "nuevos_datos = pd.DataFrame({'TV': [200, 60, 30], 'Radio': [40, 20, 10], 'Periodico': [50, 10, 5]})\n",
    "estimaciones_ventas = modelo_regresion.predict(nuevos_datos)\n",
    " \n",
    "print(\"Estimaciones de Ventas:\")\n",
    "print(estimaciones_ventas)"
   ]
  },
  {
   "cell_type": "code",
   "execution_count": null,
   "id": "fecd9911-7e14-42ec-96ba-7d091559593a",
   "metadata": {},
   "outputs": [],
   "source": []
  }
 ],
 "metadata": {
  "kernelspec": {
   "display_name": "Python 3 (ipykernel)",
   "language": "python",
   "name": "python3"
  },
  "language_info": {
   "codemirror_mode": {
    "name": "ipython",
    "version": 3
   },
   "file_extension": ".py",
   "mimetype": "text/x-python",
   "name": "python",
   "nbconvert_exporter": "python",
   "pygments_lexer": "ipython3",
   "version": "3.12.3"
  }
 },
 "nbformat": 4,
 "nbformat_minor": 5
}
