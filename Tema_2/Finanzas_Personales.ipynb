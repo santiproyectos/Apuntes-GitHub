{
 "cells": [
  {
   "cell_type": "markdown",
   "id": "f6da1730-f08f-4e00-a824-fd055196c7e1",
   "metadata": {},
   "source": [
    "Finanzas personales\n",
    "Crear una función en Python que realice operaciones con arrays utilizando NumPy para analizar las finanzas personales de un estudiante. La función debe recibir dos arrays: uno con los ingresos mensuales de un estudiante durante un año y otro con sus gastos mensuales. La función debe devolver el balance mensual (ingresos - gastos), la suma total de los ingresos, la suma total de los gastos, y el saldo total (ingresos totales - gastos totales) durante todo el año.\n",
    "\n",
    "Instrucciones:\n",
    "\n",
    "Crear la función analizar_finanzas:\n",
    "\n",
    "La función debe recibir dos arrays de 12 elementos: uno con los ingresos mensuales (ingresos) y otro con los gastos mensuales (gastos).\n",
    "\n",
    "La función debe realizar las siguientes operaciones:\n",
    "\n",
    "Balance mensual: Resta los ingresos menos los gastos para cada mes.\n",
    "\n",
    "Total de ingresos: Suma todos los ingresos del año.\n",
    "\n",
    "Total de gastos: Suma todos los gastos del año.\n",
    "\n",
    "Saldo final: Calcula el saldo final del año (total ingresos - total gastos).\n",
    "\n",
    "La salida debe ser un array con estos 4 resultados:\n",
    "\n",
    "resultado = [balance_mensual, total_ingresos, total_gastos, saldo_final]\n",
    "Requisitos:\n",
    "\n",
    "Debes usar la librería NumPy para hacer las operaciones de forma eficiente.\n",
    "\n",
    "Los datos de los ingresos y los gastos deben ser positivos (no considerar valores negativos).\n",
    "\n",
    "\n",
    "\n",
    "\n",
    "\n",
    "Ejemplo de datos de entrada y salida esperada:\n",
    "\n",
    "Ingresos mensuales: [1500, 1600, 1700, 1650, 1800, 1900, 2000, 2100, 2200, 2300, 2400, 2500]\n",
    "\n",
    "Gastos mensuales: [1000, 1100, 1200, 1150, 1300, 1400, 1500, 1600, 1700, 1800, 1900, 2000]\n",
    "\n",
    "Salida esperada: La salida de la función debe ser un array con los resultados de las operaciones, de la siguiente forma:\n",
    "\n",
    "resultado = [\n",
    "  [500, 500, 500, 500, 500, 500, 500, 500, 500, 500, 500, 500],\n",
    "  23650,                                                           \n",
    "  17650,                                                            \n",
    "  6000]"
   ]
  },
  {
   "cell_type": "code",
   "execution_count": 1,
   "id": "7f7af94b-c3c5-4f3f-9a6a-953a6f9ababe",
   "metadata": {},
   "outputs": [],
   "source": [
    "import numpy as np\n",
    "\n",
    "def analizar_finanzas(ingresos, gastos):\n",
    "    ingresos = np.array(ingresos)\n",
    "    gastos = np.array(gastos)\n",
    "\n",
    "    if ingresos.size != 12 or gastos.size != 12:\n",
    "        raise ValueError(\"Ambos arrays deben contener exactamente 12 elementos.\")\n",
    "    if np.any(ingresos < 0) or np.any(gastos < 0):\n",
    "        raise ValueError(\"Todos los valores deben ser positivos.\")\n",
    "\n",
    "    balance_mensual = ingresos - gastos\n",
    "    total_ingresos = ingresos.sum()\n",
    "    total_gastos = gastos.sum()\n",
    "    saldo_final = total_ingresos - total_gastos\n",
    "\n",
    "    return [balance_mensual.tolist(), total_ingresos, total_gastos, saldo_final]\n"
   ]
  },
  {
   "cell_type": "code",
   "execution_count": 2,
   "id": "e2b9e951-8c62-4442-b1ac-5ca5781ae489",
   "metadata": {},
   "outputs": [
    {
     "name": "stdout",
     "output_type": "stream",
     "text": [
      "Balance mensual: [500, 500, 500, 500, 500, 500, 500, 500, 500, 500, 500, 500]\n",
      "Total ingresos: 23650\n",
      "Total gastos: 17650\n",
      "Saldo final: 6000\n"
     ]
    }
   ],
   "source": [
    "ingresos = [1500, 1600, 1700, 1650, 1800, 1900, 2000, 2100, 2200, 2300, 2400, 2500]\n",
    "gastos   = [1000, 1100, 1200, 1150, 1300, 1400, 1500, 1600, 1700, 1800, 1900, 2000]\n",
    "\n",
    "resultado = analizar_finanzas(ingresos, gastos)\n",
    "\n",
    "print(\"Balance mensual:\", resultado[0])\n",
    "print(\"Total ingresos:\", resultado[1])\n",
    "print(\"Total gastos:\", resultado[2])\n",
    "print(\"Saldo final:\", resultado[3])\n"
   ]
  },
  {
   "cell_type": "code",
   "execution_count": null,
   "id": "cb38e0da-c57e-41e8-b33a-5d5c903e2b71",
   "metadata": {},
   "outputs": [],
   "source": []
  }
 ],
 "metadata": {
  "kernelspec": {
   "display_name": "Python 3 (ipykernel)",
   "language": "python",
   "name": "python3"
  },
  "language_info": {
   "codemirror_mode": {
    "name": "ipython",
    "version": 3
   },
   "file_extension": ".py",
   "mimetype": "text/x-python",
   "name": "python",
   "nbconvert_exporter": "python",
   "pygments_lexer": "ipython3",
   "version": "3.12.3"
  }
 },
 "nbformat": 4,
 "nbformat_minor": 5
}
